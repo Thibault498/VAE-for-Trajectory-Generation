{
  "nbformat": 4,
  "nbformat_minor": 0,
  "metadata": {
    "kernelspec": {
      "language": "python",
      "display_name": "Python 3",
      "name": "python3"
    },
    "language_info": {
      "pygments_lexer": "ipython3",
      "nbconvert_exporter": "python",
      "version": "3.6.4",
      "file_extension": ".py",
      "codemirror_mode": {
        "name": "ipython",
        "version": 3
      },
      "name": "python",
      "mimetype": "text/x-python"
    },
    "colab": {
      "name": "control-cvae_git.ipynb",
      "provenance": [],
      "collapsed_sections": []
    }
  },
  "cells": [
    {
      "cell_type": "code",
      "metadata": {
        "_uuid": "8f2839f25d086af736a60e9eeb907d3b93b6e0e5",
        "_cell_guid": "b1076dfc-b9ad-4769-8c92-a6c4dae69d19",
        "execution": {
          "iopub.status.busy": "2021-09-22T14:55:37.683655Z",
          "iopub.execute_input": "2021-09-22T14:55:37.684009Z",
          "iopub.status.idle": "2021-09-22T14:55:43.659059Z",
          "shell.execute_reply.started": "2021-09-22T14:55:37.68398Z",
          "shell.execute_reply": "2021-09-22T14:55:43.658041Z"
        },
        "trusted": true,
        "id": "ZuMrssLh1gDl"
      },
      "source": [
        "import tensorflow as tf\n",
        "from tensorflow.python.framework.ops import disable_eager_execution\n",
        "import keras\n",
        "from tensorflow.keras.layers import Conv2D, Conv2DTranspose, Input, Flatten, Dense, Lambda, Reshape, Dropout\n",
        "from tensorflow.keras.layers import BatchNormalization\n",
        "from tensorflow.keras.models import Model\n",
        "from tensorflow.keras.losses import binary_crossentropy\n",
        "from keras import backend as K\n",
        "import csv\n",
        "import math as math\n",
        "import matplotlib as mpl\n",
        "import matplotlib.pyplot as plt\n",
        "import numpy as np\n",
        "from mpl_toolkits.mplot3d import Axes3D\n",
        "from keras.layers.merge import concatenate as concat \n",
        "from keras.models import  Model, load_model\n",
        "from keras.layers import  LeakyReLU \n",
        "from keras.callbacks import EarlyStopping, ModelCheckpoint\n",
        "from tensorflow.keras.utils import plot_model, to_categorical\n",
        "from keras.losses import mse, BinaryCrossentropy\n",
        "import scipy.stats\n",
        "\n",
        "from sklearn.model_selection import train_test_split\n",
        "disable_eager_execution()"
      ],
      "execution_count": null,
      "outputs": []
    },
    {
      "cell_type": "code",
      "metadata": {
        "execution": {
          "iopub.status.busy": "2021-09-22T14:55:43.660389Z",
          "iopub.execute_input": "2021-09-22T14:55:43.660668Z",
          "iopub.status.idle": "2021-09-22T14:55:43.664574Z",
          "shell.execute_reply.started": "2021-09-22T14:55:43.660642Z",
          "shell.execute_reply": "2021-09-22T14:55:43.663681Z"
        },
        "trusted": true,
        "id": "C6mBRdnf1gDq"
      },
      "source": [
        "batch_size = 256\n",
        "no_epochs = 400\n",
        "latent_dim = 4 # Dimension of the latent space\n",
        "nt=10 # Size of the latent space vectors (first VAE)\n",
        "beta = 10 # Value beta for the loss function\n"
      ],
      "execution_count": null,
      "outputs": []
    },
    {
      "cell_type": "code",
      "metadata": {
        "execution": {
          "iopub.status.busy": "2021-09-22T14:55:43.666316Z",
          "iopub.execute_input": "2021-09-22T14:55:43.666735Z",
          "iopub.status.idle": "2021-09-22T14:55:46.43479Z",
          "shell.execute_reply.started": "2021-09-22T14:55:43.666707Z",
          "shell.execute_reply": "2021-09-22T14:55:46.43398Z"
        },
        "trusted": true,
        "id": "-HScMvFe1gDs"
      },
      "source": [
        "filename = '../input/data-controlvae/latent.csv' # Directory containing the latent space coordinates for the first type of trajectories\n",
        "raw_data = open(filename, 'rt')\n",
        "reader = csv.reader(raw_data, delimiter=',')\n",
        "x = list(reader)\n",
        "datalat = np.array(x).astype('float')\n",
        "print(datalat.shape)\n"
      ],
      "execution_count": null,
      "outputs": []
    },
    {
      "cell_type": "code",
      "metadata": {
        "execution": {
          "iopub.status.busy": "2021-09-22T14:55:46.436304Z",
          "iopub.execute_input": "2021-09-22T14:55:46.436591Z",
          "iopub.status.idle": "2021-09-22T14:55:49.161244Z",
          "shell.execute_reply.started": "2021-09-22T14:55:46.436561Z",
          "shell.execute_reply": "2021-09-22T14:55:49.159845Z"
        },
        "trusted": true,
        "id": "MKqxWRja1gDt"
      },
      "source": [
        "filenamet = '../input/data-controlvae/latentb.csv' # Directory containing the latent space coordinates for the second type of trajectories\n",
        "raw_datat = open(filenamet, 'rt')\n",
        "readert = csv.reader(raw_datat, delimiter=',')\n",
        "t = list(readert)\n",
        "datalatb = np.array(t).astype('float')\n",
        "print(datalatb.shape)\n"
      ],
      "execution_count": null,
      "outputs": []
    },
    {
      "cell_type": "code",
      "metadata": {
        "execution": {
          "iopub.status.busy": "2021-09-22T14:55:49.162531Z",
          "iopub.execute_input": "2021-09-22T14:55:49.16285Z",
          "iopub.status.idle": "2021-09-22T14:55:50.637698Z",
          "shell.execute_reply.started": "2021-09-22T14:55:49.162799Z",
          "shell.execute_reply": "2021-09-22T14:55:50.636654Z"
        },
        "trusted": true,
        "id": "Nof-ynnZ1gDu"
      },
      "source": [
        "filenamez = '../input/data-controlvae/score.csv' # Directory containing the scores corresponding to the latent space coordinates for the first type of trajectories\n",
        "raw_dataz = open(filenamez, 'rt')\n",
        "readerz = csv.reader(raw_dataz, delimiter=',')\n",
        "zc = list(readerz)\n",
        "datasc = np.array(zc).astype('float')\n",
        "print(datasc.shape)\n",
        "o=0\n",
        "\n",
        "for i in range (0,120000):\n",
        "    r= datasc[i]\n",
        "    if r >=0.0 and r<=1.0:\n",
        "        o=o+1 \n",
        "        #print(o)\n",
        "        #print(r)\n",
        "labels = np.zeros((o))\n",
        "lat= np.zeros((o,10))\n",
        "y=0\n",
        "for i in range (0,120000):\n",
        "    r=datasc[i]\n",
        "    if r>=0.0 and r<=1.0:\n",
        "        labels[y]=r\n",
        "        lat[y][:]=datalat[i][:]\n",
        "        y=y+1\n",
        "     \n",
        "print(labels)\n",
        "print(lat[0][:])"
      ],
      "execution_count": null,
      "outputs": []
    },
    {
      "cell_type": "code",
      "metadata": {
        "execution": {
          "iopub.status.busy": "2021-09-22T14:55:50.639192Z",
          "iopub.execute_input": "2021-09-22T14:55:50.639593Z",
          "iopub.status.idle": "2021-09-22T14:55:53.880023Z",
          "shell.execute_reply.started": "2021-09-22T14:55:50.639552Z",
          "shell.execute_reply": "2021-09-22T14:55:53.878977Z"
        },
        "trusted": true,
        "id": "XuG3csH_1gDv"
      },
      "source": [
        "filenamez = '../input/data-controlvae/scoreb.csv' # Directory containing the scores corresponding to the latent space coordinates for the second type of trajectories\n",
        "raw_dataz = open(filenamez, 'rt')\n",
        "readerz = csv.reader(raw_dataz, delimiter=',')\n",
        "zc = list(readerz)\n",
        "datascb = np.array(zc).astype('float')\n",
        "print(datascb.shape)\n",
        "o=0\n",
        "\n",
        "# Balancing the datasets and introducing the labels\n",
        "for i in range (0,120000):\n",
        "    r= datascb[i]\n",
        "    if r >=0.0 and r<=1.0:\n",
        "        o=o+1 \n",
        "        #print(o)\n",
        "        #print(r)\n",
        "labelbs = np.zeros((o))\n",
        "latb= np.zeros((o,10))\n",
        "y=0\n",
        "for i in range (0,120000):\n",
        "    r=datascb[i]\n",
        "    if r>=0.0 and r<=1.0:\n",
        "        labelbs[y]=r\n",
        "        latb[y][:]=datalatb[i][:]\n",
        "        y=y+1\n",
        "\n",
        "\n",
        "print(labelbs[0])\n",
        "print(latb[0][:])\n",
        "a = len(labels)+len(labelbs)\n",
        "b = len(lat)+len(latb)\n",
        "print(b)\n",
        "l= np.zeros((a))\n",
        "la=np.zeros((a,10))\n",
        "y=0\n",
        "for i in range(0,len(labels)):\n",
        "    l[i]=labels[i]\n",
        "for i in range(len(labels),a):\n",
        "    l[i]=labelbs[y]\n",
        "    y=y+1\n",
        "y=0\n",
        "for i in range(0,len(labels)):\n",
        "    la[i]=lat[i]\n",
        "for i in range(len(labels),a):\n",
        "    la[i][:]=latb[y][:]\n",
        "    y=y+1\n",
        "print(a)\n",
        "print(len(l))\n",
        "print(len(la))\n",
        "\n",
        "print(l[0])\n",
        "print(la[0][:])\n",
        "\n",
        "for i in range (0,len(l)):\n",
        "    r=l[i]\n",
        "    if r <=0.15 and r>=0.0 :\n",
        "        l[i]=0\n",
        "    if r <=0.25 and r>0.15 :\n",
        "        l[i]=1\n",
        "    if r <=0.35 and r>0.25 :\n",
        "        l[i]=2\n",
        "    if r <=0.45 and r>0.35 :\n",
        "        l[i]=3\n",
        "    if r <=0.55 and r>0.45 :\n",
        "        l[i]=4\n",
        "    if r <=0.65 and r>0.55 :\n",
        "        l[i]=5\n",
        "    if r <=0.75 and r>0.65 :\n",
        "        l[i]=6\n",
        "    if r <=0.85 and r>0.75 :\n",
        "        l[i]=7\n",
        "    if r <=0.95 and r>0.85 :\n",
        "        l[i]=8\n",
        "    if r <=1.0 and r>0.95 :\n",
        "        l[i]=9\n",
        "\n",
        "print(l[1000])\n",
        "target=np.zeros((len(l),2))\n",
        "for i in range (0,len(l)):\n",
        "    p = la[i][8]\n",
        "    if p == 0:\n",
        "        target[i][0]=0\n",
        "        target[i][1]=1\n",
        "    else:\n",
        "        target[i][0]=1\n",
        "        target[i][1]=0\n",
        "    "
      ],
      "execution_count": null,
      "outputs": []
    },
    {
      "cell_type": "code",
      "metadata": {
        "execution": {
          "iopub.status.busy": "2021-09-22T14:55:53.881305Z",
          "iopub.execute_input": "2021-09-22T14:55:53.881592Z",
          "iopub.status.idle": "2021-09-22T14:55:53.958231Z",
          "shell.execute_reply.started": "2021-09-22T14:55:53.881564Z",
          "shell.execute_reply": "2021-09-22T14:55:53.956965Z"
        },
        "trusted": true,
        "id": "6YLFFu7i1gDx"
      },
      "source": [
        "# Formation of random validation, training, and test dataset\n",
        "x_temp, x_test, y_temp, y_test, t_temp, t_test = train_test_split(la, l,target, test_size = 0.01)\n",
        "\n",
        "x_train, x_valid, y_train, y_valid, t_train, t_valid = train_test_split(x_temp,  y_temp, t_temp, test_size=0.1)\n",
        "\n",
        "n_train = len(x_train)\n",
        "n_test = len(x_test)\n",
        "\n",
        "print(n_train)\n",
        "print(n_test)\n",
        "print(y_train.shape)\n",
        "print(y_train[1])\n",
        "print(x_train.shape)\n"
      ],
      "execution_count": null,
      "outputs": []
    },
    {
      "cell_type": "code",
      "metadata": {
        "execution": {
          "iopub.status.busy": "2021-09-22T14:56:58.097238Z",
          "iopub.execute_input": "2021-09-22T14:56:58.0976Z",
          "iopub.status.idle": "2021-09-22T14:56:58.110495Z",
          "shell.execute_reply.started": "2021-09-22T14:56:58.097572Z",
          "shell.execute_reply": "2021-09-22T14:56:58.10963Z"
        },
        "trusted": true,
        "id": "gCziwX3Y1gDz"
      },
      "source": [
        "# One-hot encoding labels\n",
        "Y_train= to_categorical(y_train,10)\n",
        "Y_test= to_categorical(y_test,10)\n",
        "Y_valid= to_categorical(y_valid,10)\n",
        "print(Y_train.shape)\n",
        "ny = Y_train.shape[1]\n",
        "print(Y_train[193])"
      ],
      "execution_count": null,
      "outputs": []
    },
    {
      "cell_type": "code",
      "metadata": {
        "execution": {
          "iopub.status.busy": "2021-09-22T14:56:59.667041Z",
          "iopub.execute_input": "2021-09-22T14:56:59.667538Z",
          "iopub.status.idle": "2021-09-22T14:56:59.703444Z",
          "shell.execute_reply.started": "2021-09-22T14:56:59.667501Z",
          "shell.execute_reply": "2021-09-22T14:56:59.702578Z"
        },
        "trusted": true,
        "id": "0OHOD4DV1gD1"
      },
      "source": [
        "# Encoder's input layer\n",
        "Xi = Input(shape=(nt,))\n",
        "label = Input(shape=(ny,))\n",
        "tar = Input(shape=(2,))\n",
        "inputs = concat([Xi, label, tar])"
      ],
      "execution_count": null,
      "outputs": []
    },
    {
      "cell_type": "code",
      "metadata": {
        "execution": {
          "iopub.status.busy": "2021-09-22T14:57:00.943063Z",
          "iopub.execute_input": "2021-09-22T14:57:00.943412Z",
          "iopub.status.idle": "2021-09-22T14:57:01.037092Z",
          "shell.execute_reply.started": "2021-09-22T14:57:00.943383Z",
          "shell.execute_reply": "2021-09-22T14:57:01.036058Z"
        },
        "trusted": true,
        "id": "o8cVtg171gD2"
      },
      "source": [
        "# Definition\n",
        "encoded = Dense(256, activation = 'tanh')(inputs)\n",
        "encoded = Dense(128, activation = 'tanh')(encoded)\n",
        "encoded = Dense(64, activation = 'tanh')(encoded)\n",
        "encoded = Dense(32, activation = 'tanh')(encoded)\n",
        "mu      = Dense(latent_dim, name='latent_m')(encoded)\n",
        "sigma   = Dense(latent_dim, name='latent_sigma')(encoded)"
      ],
      "execution_count": null,
      "outputs": []
    },
    {
      "cell_type": "code",
      "metadata": {
        "execution": {
          "iopub.status.busy": "2021-09-22T14:57:03.433132Z",
          "iopub.execute_input": "2021-09-22T14:57:03.43351Z",
          "iopub.status.idle": "2021-09-22T14:57:03.468272Z",
          "shell.execute_reply.started": "2021-09-22T14:57:03.433478Z",
          "shell.execute_reply": "2021-09-22T14:57:03.467449Z"
        },
        "trusted": true,
        "id": "yppMXhj61gD3"
      },
      "source": [
        "# reparameterization trick\n",
        "def sample_z(args):\n",
        "  mu, sigma = args\n",
        "  batch     = K.shape(mu)[0]\n",
        "  dim       = K.int_shape(mu)[1]\n",
        "  eps       = K.random_normal(shape=(batch, dim))\n",
        "  return mu + K.exp(sigma / 2) * eps\n",
        "\n",
        "z       = Lambda(sample_z, output_shape=(latent_dim, ), name='z')([mu, sigma])\n",
        "zc = concat([z,label,tar])"
      ],
      "execution_count": null,
      "outputs": []
    },
    {
      "cell_type": "code",
      "metadata": {
        "execution": {
          "iopub.status.busy": "2021-09-22T14:57:04.937458Z",
          "iopub.execute_input": "2021-09-22T14:57:04.937906Z",
          "iopub.status.idle": "2021-09-22T14:57:04.95204Z",
          "shell.execute_reply.started": "2021-09-22T14:57:04.937868Z",
          "shell.execute_reply": "2021-09-22T14:57:04.951059Z"
        },
        "trusted": true,
        "id": "Vp5u_Z1r1gD3"
      },
      "source": [
        "# Instantiate encoder\n",
        "encoder = Model([Xi,label,tar], [mu, sigma, zc], name='encoder')\n",
        "encoder.summary()"
      ],
      "execution_count": null,
      "outputs": []
    },
    {
      "cell_type": "code",
      "metadata": {
        "execution": {
          "iopub.status.busy": "2021-09-22T14:57:07.758462Z",
          "iopub.execute_input": "2021-09-22T14:57:07.758793Z",
          "iopub.status.idle": "2021-09-22T14:57:07.832103Z",
          "shell.execute_reply.started": "2021-09-22T14:57:07.758765Z",
          "shell.execute_reply": "2021-09-22T14:57:07.83123Z"
        },
        "trusted": true,
        "id": "t0CcyBmM1gD4"
      },
      "source": [
        "# Definition Decoder\n",
        "d_i   = Input((latent_dim+ny+2, ))\n",
        "decoded = Dense(32, activation='tanh')(d_i)\n",
        "decoded = Dense (64, activation = 'tanh')(decoded)\n",
        "decoded = Dense (128, activation = 'tanh')(decoded)\n",
        "decoded = Dense (256, activation = 'tanh')(decoded)\n",
        "oa     = Dense(nt, name='decoder_outputa')(decoded)\n"
      ],
      "execution_count": null,
      "outputs": []
    },
    {
      "cell_type": "code",
      "metadata": {
        "execution": {
          "iopub.status.busy": "2021-09-22T14:57:10.909919Z",
          "iopub.execute_input": "2021-09-22T14:57:10.910486Z",
          "iopub.status.idle": "2021-09-22T14:57:10.922717Z",
          "shell.execute_reply.started": "2021-09-22T14:57:10.910438Z",
          "shell.execute_reply": "2021-09-22T14:57:10.921641Z"
        },
        "trusted": true,
        "id": "BA7vTO8V1gD4"
      },
      "source": [
        "# Decoder\n",
        "decoder = Model(d_i, [oa], name='decoder')\n",
        "decoder.summary()"
      ],
      "execution_count": null,
      "outputs": []
    },
    {
      "cell_type": "code",
      "metadata": {
        "execution": {
          "iopub.status.busy": "2021-09-22T14:57:13.528761Z",
          "iopub.execute_input": "2021-09-22T14:57:13.529137Z",
          "iopub.status.idle": "2021-09-22T14:57:13.583937Z",
          "shell.execute_reply.started": "2021-09-22T14:57:13.529107Z",
          "shell.execute_reply": "2021-09-22T14:57:13.582884Z"
        },
        "trusted": true,
        "id": "D0L-_1R81gD4"
      },
      "source": [
        "#  VAE\n",
        "vae_outputs = decoder(encoder([Xi,label,tar])[2])\n",
        "vae = Model([Xi,label,tar], vae_outputs, name='vae')\n",
        "vae.summary()"
      ],
      "execution_count": null,
      "outputs": []
    },
    {
      "cell_type": "code",
      "metadata": {
        "execution": {
          "iopub.status.busy": "2021-09-22T14:57:16.900051Z",
          "iopub.execute_input": "2021-09-22T14:57:16.90041Z",
          "iopub.status.idle": "2021-09-22T14:57:16.907307Z",
          "shell.execute_reply.started": "2021-09-22T14:57:16.900379Z",
          "shell.execute_reply": "2021-09-22T14:57:16.906153Z"
        },
        "trusted": true,
        "id": "JYqfs1Ap1gD5"
      },
      "source": [
        "# Define loss\n",
        "def kl_reconstruction_loss(i, o):\n",
        "  # Reconstruction loss\n",
        "  reconstruction_loss = mse(K.flatten(i),K.flatten(o))\n",
        "  # KL divergence loss\n",
        "  kl_loss = beta*(1 + sigma - K.square(mu) - K.exp(sigma))\n",
        "  kl_loss = K.sum(kl_loss, axis=-1)\n",
        "  kl_loss *= -0.5\n",
        "  # Total loss = 50% rec + 50% KL divergence loss\n",
        "  return K.mean(reconstruction_loss + kl_loss)"
      ],
      "execution_count": null,
      "outputs": []
    },
    {
      "cell_type": "code",
      "metadata": {
        "execution": {
          "iopub.status.busy": "2021-09-22T14:57:19.580621Z",
          "iopub.execute_input": "2021-09-22T14:57:19.581011Z",
          "iopub.status.idle": "2021-09-22T14:57:35.133681Z",
          "shell.execute_reply.started": "2021-09-22T14:57:19.580977Z",
          "shell.execute_reply": "2021-09-22T14:57:35.132113Z"
        },
        "trusted": true,
        "id": "unlg4Lsm1gD5"
      },
      "source": [
        "# Compile VAE\n",
        "vae.compile(optimizer='adam', loss=kl_reconstruction_loss, experimental_run_tf_function=False)\n",
        "\n",
        "# Train autoencoder\n",
        "results = vae.fit([x_train,Y_train, t_train], [x_train], epochs = no_epochs, batch_size = batch_size, validation_data = ([x_valid,Y_valid, t_valid], [x_valid]))"
      ],
      "execution_count": null,
      "outputs": []
    },
    {
      "cell_type": "code",
      "metadata": {
        "execution": {
          "iopub.status.busy": "2021-09-22T12:54:06.758042Z",
          "iopub.execute_input": "2021-09-22T12:54:06.758523Z",
          "iopub.status.idle": "2021-09-22T12:54:06.986175Z",
          "shell.execute_reply.started": "2021-09-22T12:54:06.75847Z",
          "shell.execute_reply": "2021-09-22T12:54:06.985071Z"
        },
        "trusted": true,
        "id": "UFKLfNax1gD5"
      },
      "source": [
        "# QC training and validation curves (should follow eachother)\n",
        "plt.figure(figsize=(8,2))\n",
        "plt.plot(results.history['val_loss'], label='val')\n",
        "plt.plot(results.history['loss'], label='train')\n",
        "plt.xlabel('epoch index')\n",
        "plt.ylabel('loss value ')\n",
        "plt.legend()\n",
        "plt.show()"
      ],
      "execution_count": null,
      "outputs": []
    },
    {
      "cell_type": "code",
      "metadata": {
        "execution": {
          "iopub.status.busy": "2021-09-22T12:54:06.987498Z",
          "iopub.execute_input": "2021-09-22T12:54:06.987868Z",
          "iopub.status.idle": "2021-09-22T12:54:07.228261Z",
          "shell.execute_reply.started": "2021-09-22T12:54:06.987831Z",
          "shell.execute_reply": "2021-09-22T12:54:07.227076Z"
        },
        "trusted": true,
        "id": "X8fT79Ax1gD6"
      },
      "source": [
        "# Test\n",
        "encoded_test = encoder.predict([x_test,Y_test, t_test])\n",
        "vae_test = vae.predict([x_test,Y_test, t_test])\n",
        "\n",
        "\n",
        "print(x_test[28])\n",
        "print(vae_test[28])"
      ],
      "execution_count": null,
      "outputs": []
    },
    {
      "cell_type": "code",
      "metadata": {
        "execution": {
          "iopub.status.busy": "2021-09-22T12:54:07.229395Z",
          "iopub.execute_input": "2021-09-22T12:54:07.229858Z",
          "iopub.status.idle": "2021-09-22T12:54:07.237846Z",
          "shell.execute_reply.started": "2021-09-22T12:54:07.229824Z",
          "shell.execute_reply": "2021-09-22T12:54:07.236943Z"
        },
        "trusted": true,
        "id": "aWs3LNJo1gD6"
      },
      "source": [
        "#Generate new latent space coordinates\n",
        "\n",
        "import random\n",
        "def construct(digit,digitb, z = None):\n",
        "  out = np.zeros((1,latent_dim+ny+2))\n",
        " \n",
        "  out[0,0]=random.uniform(-10,10)\n",
        "  out[0,1]=random.uniform(-10,10)\n",
        "  out[0,2]=random.uniform(-10,10)\n",
        "  out[0,3]=random.uniform(-10,10)\n",
        "  \n",
        "\n",
        "  out[:,digitb+latent_dim]=1.\n",
        "  out[:,digit+latent_dim+ny]=1.\n",
        "  if z is None:\n",
        "    return (out)\n",
        "  else:\n",
        "    for i in range (len(z)):\n",
        "      out[:,i]=z[i]\n",
        "    return out"
      ],
      "execution_count": null,
      "outputs": []
    },
    {
      "cell_type": "code",
      "metadata": {
        "execution": {
          "iopub.status.busy": "2021-09-22T12:54:07.238967Z",
          "iopub.execute_input": "2021-09-22T12:54:07.23944Z",
          "iopub.status.idle": "2021-09-22T12:54:08.576802Z",
          "shell.execute_reply.started": "2021-09-22T12:54:07.239402Z",
          "shell.execute_reply": "2021-09-22T12:54:08.57558Z"
        },
        "trusted": true,
        "id": "ixf76GOL1gD6"
      },
      "source": [
        "#Generation of new latent space coordinates corresponding to the desires legibility level.\n",
        "\n",
        "lat = np.zeros((300,10))\n",
        "latb = np.zeros((300,10))\n",
        "\n",
        "for i in range (0,300):\n",
        "  \n",
        "    if i>= 0 and i<30:\n",
        "        sample = construct(0,0)\n",
        "        sampleb = construct(1,0)\n",
        "    if i>= 30 and i<60:\n",
        "        sample = construct(0,1)\n",
        "        sampleb = construct(1,1)\n",
        "    if i>= 60 and i<90:\n",
        "        sample = construct(0,2)\n",
        "        sampleb = construct(1,2)\n",
        "    if i>= 90 and i<120:\n",
        "        sample = construct(0,3)\n",
        "        sampleb = construct(1,3)\n",
        "    if i>= 120 and i<150:\n",
        "        sample = construct(0,4)\n",
        "        sampleb = construct(1,4)\n",
        "    if i>= 150 and i<180:\n",
        "        sample = construct(0,5)\n",
        "        sampleb = construct(1,5)\n",
        "    if i>= 180 and i<210:\n",
        "        sample = construct(0,6)\n",
        "        sampleb = construct(1,6)\n",
        "    if i>= 210 and i<240:\n",
        "        sample = construct(0,7)\n",
        "        sampleb = construct(1,7)\n",
        "    if i>= 240 and i<270:\n",
        "        sample = construct(0,8)\n",
        "        sampleb = construct(1,8)\n",
        "    if i>= 270 and i<300:\n",
        "        sample = construct(0,9)\n",
        "        sampleb = construct(1,9)\n",
        "\n",
        "    print(sample)\n",
        "    s=decoder.predict(sample)\n",
        "    sb=decoder.predict(sampleb)\n",
        "    print(s)\n",
        "    lat[i,:]=s\n",
        "    latb[i,:]=sb\n",
        "\n",
        "print(lat[0][5])    \n",
        "\n",
        "filelat = open ('control.csv','w+', newline='')\n",
        "with filelat:\n",
        "    write = csv.writer(filelat)\n",
        "    write.writerows(lat)\n",
        "filelatb = open ('controlb.csv','w+', newline='')\n",
        "with filelatb:\n",
        "    write = csv.writer(filelatb)\n",
        "    write.writerows(latb)"
      ],
      "execution_count": null,
      "outputs": []
    }
  ]
}