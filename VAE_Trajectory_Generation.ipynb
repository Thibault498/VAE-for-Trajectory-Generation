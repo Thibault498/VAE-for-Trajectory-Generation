{
  "nbformat": 4,
  "nbformat_minor": 0,
  "metadata": {
    "kernelspec": {
      "language": "python",
      "display_name": "Python 3",
      "name": "python3"
    },
    "language_info": {
      "pygments_lexer": "ipython3",
      "nbconvert_exporter": "python",
      "version": "3.6.4",
      "file_extension": ".py",
      "codemirror_mode": {
        "name": "ipython",
        "version": 3
      },
      "name": "python",
      "mimetype": "text/x-python"
    },
    "colab": {
      "name": "VAE_Traj_Git.ipynb",
      "provenance": [],
      "collapsed_sections": []
    }
  },
  "cells": [
    {
      "cell_type": "code",
      "metadata": {
        "_uuid": "8f2839f25d086af736a60e9eeb907d3b93b6e0e5",
        "_cell_guid": "b1076dfc-b9ad-4769-8c92-a6c4dae69d19",
        "execution": {
          "iopub.status.busy": "2021-09-22T11:20:55.613944Z",
          "iopub.execute_input": "2021-09-22T11:20:55.614481Z",
          "iopub.status.idle": "2021-09-22T11:21:00.739808Z",
          "shell.execute_reply.started": "2021-09-22T11:20:55.614344Z",
          "shell.execute_reply": "2021-09-22T11:21:00.73893Z"
        },
        "trusted": true,
        "id": "NF-G_Nf53JkH"
      },
      "source": [
        "import tensorflow as tf\n",
        "from tensorflow.python.framework.ops import disable_eager_execution\n",
        "import keras\n",
        "from tensorflow.keras.layers import Conv2D, Conv2DTranspose, Input, Flatten, Dense, Lambda, Reshape, Dropout\n",
        "from tensorflow.keras.layers import BatchNormalization\n",
        "from tensorflow.keras.models import Model\n",
        "from tensorflow.keras.losses import binary_crossentropy\n",
        "from keras import backend as K\n",
        "import csv\n",
        "import math as math\n",
        "import matplotlib as mpl\n",
        "import matplotlib.pyplot as plt\n",
        "import numpy as np\n",
        "from mpl_toolkits.mplot3d import Axes3D\n",
        "from keras.layers.merge import concatenate as concat \n",
        "from keras.models import  Model, load_model\n",
        "from keras.layers import  LeakyReLU \n",
        "from keras.callbacks import EarlyStopping, ModelCheckpoint\n",
        "from tensorflow.keras.utils import plot_model, to_categorical\n",
        "from keras.losses import mse\n",
        "import scipy.stats\n",
        "\n",
        "from sklearn.model_selection import train_test_split\n",
        "disable_eager_execution()"
      ],
      "execution_count": null,
      "outputs": []
    },
    {
      "cell_type": "code",
      "metadata": {
        "execution": {
          "iopub.status.busy": "2021-09-22T11:21:00.741313Z",
          "iopub.execute_input": "2021-09-22T11:21:00.741665Z",
          "iopub.status.idle": "2021-09-22T11:21:00.746451Z",
          "shell.execute_reply.started": "2021-09-22T11:21:00.741629Z",
          "shell.execute_reply": "2021-09-22T11:21:00.745478Z"
        },
        "trusted": true,
        "id": "u-qOqzTW3JkM"
      },
      "source": [
        "batch_size = 256\n",
        "no_epochs = 100\n",
        "latent_dim = 8 # Dimension of the latent space\n",
        "nt=256 # Number of points contained in each trajectories\n",
        "beta = 10 # Value beta for the loss function\n"
      ],
      "execution_count": null,
      "outputs": []
    },
    {
      "cell_type": "code",
      "metadata": {
        "execution": {
          "iopub.status.busy": "2021-09-22T11:21:00.748592Z",
          "iopub.execute_input": "2021-09-22T11:21:00.748953Z",
          "iopub.status.idle": "2021-09-22T11:21:37.207759Z",
          "shell.execute_reply.started": "2021-09-22T11:21:00.748906Z",
          "shell.execute_reply": "2021-09-22T11:21:37.206296Z"
        },
        "trusted": true,
        "id": "yUGR3Z8p3JkN"
      },
      "source": [
        "filename = '../input/dataset-final/data_traj_cvae_2obj80000_t_3d_finaltest_traite.csv' # Directory containing the coordinates of each point following the x-axis\n",
        "raw_data = open(filename, 'rt')\n",
        "reader = csv.reader(raw_data, delimiter=',')\n",
        "x = list(reader)\n",
        "data = np.array(x).astype('float')\n",
        "print(data.shape)\n"
      ],
      "execution_count": null,
      "outputs": []
    },
    {
      "cell_type": "code",
      "metadata": {
        "execution": {
          "iopub.status.busy": "2021-09-22T11:21:37.209498Z",
          "iopub.execute_input": "2021-09-22T11:21:37.20985Z",
          "iopub.status.idle": "2021-09-22T11:22:13.030602Z",
          "shell.execute_reply.started": "2021-09-22T11:21:37.209809Z",
          "shell.execute_reply": "2021-09-22T11:22:13.029067Z"
        },
        "trusted": true,
        "id": "bIW4TNL63JkP"
      },
      "source": [
        "filenamet = '../input/dataset-final/data_traj_cvae_2obj80000_x_3d_finaltest_traite.csv' # Directory containing the coordinates of each point following the y-axis\n",
        "raw_datat = open(filenamet, 'rt')\n",
        "readert = csv.reader(raw_datat, delimiter=',')\n",
        "t = list(readert)\n",
        "datat = np.array(t).astype('float')\n",
        "print(datat.shape)\n"
      ],
      "execution_count": null,
      "outputs": []
    },
    {
      "cell_type": "code",
      "metadata": {
        "execution": {
          "iopub.status.busy": "2021-09-22T11:22:13.031965Z",
          "iopub.execute_input": "2021-09-22T11:22:13.032304Z",
          "iopub.status.idle": "2021-09-22T11:22:48.563922Z",
          "shell.execute_reply.started": "2021-09-22T11:22:13.032268Z",
          "shell.execute_reply": "2021-09-22T11:22:48.562182Z"
        },
        "trusted": true,
        "id": "WEZjndEq3JkP"
      },
      "source": [
        "filenamez = '../input/dataset-final/data_traj_cvae_2obj80000_z_3d_finaltest_traite.csv' # Directory containing the coordinates of each point following the z-axis\n",
        "raw_dataz = open(filenamez, 'rt')\n",
        "readerz = csv.reader(raw_dataz, delimiter=',')\n",
        "zc = list(readerz)\n",
        "dataz = np.array(zc).astype('float')\n",
        "print(dataz.shape)\n",
        "\n",
        "# Definition of the labels specifying the end points of the trajectory\n",
        "labels = np.zeros((80000))\n",
        "for i in range (0,80000):\n",
        "  r= dataz[i,255]\n",
        "  if r == 11.275:\n",
        "    labels[i]=0\n",
        "  if r == -8.05 :\n",
        "    labels[i]=1\n",
        "     \n",
        "print(labels)\n",
        "print(dataz[75000][255])"
      ],
      "execution_count": null,
      "outputs": []
    },
    {
      "cell_type": "code",
      "metadata": {
        "execution": {
          "iopub.status.busy": "2021-09-22T11:22:48.565374Z",
          "iopub.execute_input": "2021-09-22T11:22:48.565717Z",
          "iopub.status.idle": "2021-09-22T11:22:48.920524Z",
          "shell.execute_reply.started": "2021-09-22T11:22:48.565681Z",
          "shell.execute_reply": "2021-09-22T11:22:48.919431Z"
        },
        "trusted": true,
        "id": "gcOSswgc3JkR"
      },
      "source": [
        "# Formation of random validation, training, and test datasets\n",
        "x_temp, x_test, t_temp, t_test, z_temp, z_test, y_temp, y_test = train_test_split(data, datat, dataz, labels, test_size = 0.01)\n",
        "\n",
        "x_train, x_valid, t_train, t_valid, z_train, z_valid, y_train, y_valid = train_test_split(x_temp, t_temp, z_temp, y_temp, test_size=0.1)\n",
        "\n",
        "n_train = len(x_train)\n",
        "n_test = len(x_test)\n",
        "\n",
        "print(n_train)\n",
        "print(n_test)\n",
        "print(y_train.shape)\n",
        "print(y_train[1])\n",
        "print(x_train.shape)\n"
      ],
      "execution_count": null,
      "outputs": []
    },
    {
      "cell_type": "code",
      "metadata": {
        "execution": {
          "iopub.status.busy": "2021-09-22T11:22:48.922109Z",
          "iopub.execute_input": "2021-09-22T11:22:48.922477Z",
          "iopub.status.idle": "2021-09-22T11:22:48.933159Z",
          "shell.execute_reply.started": "2021-09-22T11:22:48.922435Z",
          "shell.execute_reply": "2021-09-22T11:22:48.932091Z"
        },
        "trusted": true,
        "id": "0R8E0cVH3JkR"
      },
      "source": [
        "# Labels in one-hot-encoding\n",
        "Y_train= to_categorical(y_train,2)\n",
        "Y_test= to_categorical(y_test,2)\n",
        "Y_valid= to_categorical(y_valid,2)\n",
        "print(Y_train.shape)\n",
        "ny = Y_train.shape[1]\n"
      ],
      "execution_count": null,
      "outputs": []
    },
    {
      "cell_type": "code",
      "metadata": {
        "execution": {
          "iopub.status.busy": "2021-09-22T11:22:48.976955Z",
          "iopub.execute_input": "2021-09-22T11:22:48.977211Z",
          "iopub.status.idle": "2021-09-22T11:22:49.005984Z",
          "shell.execute_reply.started": "2021-09-22T11:22:48.977185Z",
          "shell.execute_reply": "2021-09-22T11:22:49.005229Z"
        },
        "trusted": true,
        "id": "PSC7Mhd93JkR"
      },
      "source": [
        "# Definition of the input layer of the encoder\n",
        "Xi = Input(shape=(nt,))\n",
        "Yi= Input(shape=(nt,))\n",
        "Zi = Input(shape=(nt,))\n",
        "label = Input(shape=(ny,))\n",
        "inputs = concat([Xi, Yi, Zi, label])"
      ],
      "execution_count": null,
      "outputs": []
    },
    {
      "cell_type": "code",
      "metadata": {
        "execution": {
          "iopub.status.busy": "2021-09-22T11:22:49.00763Z",
          "iopub.execute_input": "2021-09-22T11:22:49.00798Z",
          "iopub.status.idle": "2021-09-22T11:22:49.099697Z",
          "shell.execute_reply.started": "2021-09-22T11:22:49.007945Z",
          "shell.execute_reply": "2021-09-22T11:22:49.098962Z"
        },
        "trusted": true,
        "id": "9zMZ0hOF3JkS"
      },
      "source": [
        "# Definition Encoder\n",
        "encoded = Dense(512, activation = 'tanh')(inputs)\n",
        "encoded = Dense(256, activation = 'tanh')(inputs)\n",
        "encoded = Dense(128, activation = 'tanh')(encoded)\n",
        "encoded = Dense(64, activation = 'tanh')(encoded)\n",
        "encoded = Dense(32, activation = 'tanh')(encoded)\n",
        "mu      = Dense(latent_dim, name='latent_m')(encoded)\n",
        "sigma   = Dense(latent_dim, name='latent_sigma')(encoded)"
      ],
      "execution_count": null,
      "outputs": []
    },
    {
      "cell_type": "code",
      "metadata": {
        "execution": {
          "iopub.status.busy": "2021-09-22T11:22:49.100975Z",
          "iopub.execute_input": "2021-09-22T11:22:49.101489Z",
          "iopub.status.idle": "2021-09-22T11:22:49.553182Z",
          "shell.execute_reply.started": "2021-09-22T11:22:49.101452Z",
          "shell.execute_reply": "2021-09-22T11:22:49.552303Z"
        },
        "trusted": true,
        "id": "u6DXeOxf3JkT"
      },
      "source": [
        "# reparameterization trick\n",
        "def sample_z(args):\n",
        "  mu, sigma = args\n",
        "  batch     = K.shape(mu)[0]\n",
        "  dim       = K.int_shape(mu)[1]\n",
        "  eps       = K.random_normal(shape=(batch, dim))\n",
        "  return mu + K.exp(sigma / 2) * eps\n",
        "\n",
        "z       = Lambda(sample_z, output_shape=(latent_dim, ), name='z')([mu, sigma])\n",
        "zc = concat([z,label])"
      ],
      "execution_count": null,
      "outputs": []
    },
    {
      "cell_type": "code",
      "metadata": {
        "execution": {
          "iopub.status.busy": "2021-09-22T11:22:49.555272Z",
          "iopub.execute_input": "2021-09-22T11:22:49.555832Z",
          "iopub.status.idle": "2021-09-22T11:22:49.574994Z",
          "shell.execute_reply.started": "2021-09-22T11:22:49.555791Z",
          "shell.execute_reply": "2021-09-22T11:22:49.574182Z"
        },
        "trusted": true,
        "id": "kfr7Qps63JkT"
      },
      "source": [
        "# Instantiate encoder\n",
        "encoder = Model([Xi,Yi,Zi,label], [mu, sigma, zc], name='encoder')\n",
        "encoder.summary()"
      ],
      "execution_count": null,
      "outputs": []
    },
    {
      "cell_type": "code",
      "metadata": {
        "execution": {
          "iopub.status.busy": "2021-09-22T11:22:49.576173Z",
          "iopub.execute_input": "2021-09-22T11:22:49.576551Z",
          "iopub.status.idle": "2021-09-22T11:22:49.678197Z",
          "shell.execute_reply.started": "2021-09-22T11:22:49.57652Z",
          "shell.execute_reply": "2021-09-22T11:22:49.677442Z"
        },
        "trusted": true,
        "id": "g3KR1V3R3JkU"
      },
      "source": [
        "# Definition Decoder\n",
        "d_i   = Input((latent_dim+ny, ))\n",
        "decoded = Dense(32, activation='tanh')(d_i)\n",
        "decoded = Dense (64, activation = 'tanh')(decoded)\n",
        "decoded = Dense (128, activation = 'tanh')(decoded)\n",
        "decoded = Dense (256, activation = 'tanh')(decoded)\n",
        "decoded = Dense (512, activation = 'tanh')(decoded)\n",
        "oa     = Dense(nt, name='decoder_outputa')(decoded)\n",
        "ob     = Dense(nt, name='decoder_outputb')(decoded)\n",
        "oc     = Dense(nt, name='decoder_outputc')(decoded)"
      ],
      "execution_count": null,
      "outputs": []
    },
    {
      "cell_type": "code",
      "metadata": {
        "execution": {
          "iopub.status.busy": "2021-09-22T11:22:49.679451Z",
          "iopub.execute_input": "2021-09-22T11:22:49.679775Z",
          "iopub.status.idle": "2021-09-22T11:22:49.691737Z",
          "shell.execute_reply.started": "2021-09-22T11:22:49.679739Z",
          "shell.execute_reply": "2021-09-22T11:22:49.690896Z"
        },
        "trusted": true,
        "id": "owoGVImz3JkU"
      },
      "source": [
        "# Decoder\n",
        "decoder = Model(d_i, [oa,ob,oc], name='decoder')\n",
        "decoder.summary()"
      ],
      "execution_count": null,
      "outputs": []
    },
    {
      "cell_type": "code",
      "metadata": {
        "execution": {
          "iopub.status.busy": "2021-09-22T11:22:49.692845Z",
          "iopub.execute_input": "2021-09-22T11:22:49.693173Z",
          "iopub.status.idle": "2021-09-22T11:22:49.747557Z",
          "shell.execute_reply.started": "2021-09-22T11:22:49.693129Z",
          "shell.execute_reply": "2021-09-22T11:22:49.746502Z"
        },
        "trusted": true,
        "id": "AuA4FzwR3JkU"
      },
      "source": [
        "#  VAE\n",
        "vae_outputs = decoder(encoder([Xi,Yi,Zi,label])[2])\n",
        "vae = Model([Xi,Yi,Zi,label], vae_outputs, name='vae')\n",
        "vae.summary()"
      ],
      "execution_count": null,
      "outputs": []
    },
    {
      "cell_type": "code",
      "metadata": {
        "execution": {
          "iopub.status.busy": "2021-09-22T11:22:49.748766Z",
          "iopub.execute_input": "2021-09-22T11:22:49.749101Z",
          "iopub.status.idle": "2021-09-22T11:22:49.755033Z",
          "shell.execute_reply.started": "2021-09-22T11:22:49.749067Z",
          "shell.execute_reply": "2021-09-22T11:22:49.753857Z"
        },
        "trusted": true,
        "id": "M2etPbzp3JkV"
      },
      "source": [
        "# Define loss\n",
        "def kl_reconstruction_loss(i, o):\n",
        "  # Reconstruction loss\n",
        "  reconstruction_loss = mse(K.flatten(i),K.flatten(o))\n",
        "  # KL divergence loss\n",
        "  kl_loss = beta*(1 + sigma - K.square(mu) - K.exp(sigma))\n",
        "  kl_loss = K.sum(kl_loss, axis=-1)\n",
        "  kl_loss *= -0.5\n",
        "  \n",
        "  return K.mean(reconstruction_loss + kl_loss)"
      ],
      "execution_count": null,
      "outputs": []
    },
    {
      "cell_type": "code",
      "metadata": {
        "execution": {
          "iopub.status.busy": "2021-09-22T11:22:49.756724Z",
          "iopub.execute_input": "2021-09-22T11:22:49.757088Z",
          "iopub.status.idle": "2021-09-22T11:26:06.256779Z",
          "shell.execute_reply.started": "2021-09-22T11:22:49.757053Z",
          "shell.execute_reply": "2021-09-22T11:26:06.255736Z"
        },
        "trusted": true,
        "id": "O1UIFYzw3JkV"
      },
      "source": [
        "# Compile VAE\n",
        "vae.compile(optimizer='adam', loss=kl_reconstruction_loss, experimental_run_tf_function=False)\n",
        "\n",
        "# Train autoencoder\n",
        "results = vae.fit([t_train, x_train, z_train, Y_train], [t_train,x_train,z_train], epochs = no_epochs, batch_size = batch_size, validation_data = ([t_valid,x_valid,z_valid,Y_valid], [t_valid,x_valid,z_valid]))"
      ],
      "execution_count": null,
      "outputs": []
    },
    {
      "cell_type": "code",
      "metadata": {
        "execution": {
          "iopub.status.busy": "2021-09-22T11:26:06.2581Z",
          "iopub.execute_input": "2021-09-22T11:26:06.258463Z",
          "iopub.status.idle": "2021-09-22T11:26:06.396852Z",
          "shell.execute_reply.started": "2021-09-22T11:26:06.258417Z",
          "shell.execute_reply": "2021-09-22T11:26:06.396075Z"
        },
        "trusted": true,
        "id": "KP8Kj29M3JkV"
      },
      "source": [
        "# QC training and validation curves (should follow eachother)\n",
        "plt.figure(figsize=(8,2))\n",
        "plt.plot(results.history['val_loss'], label='val')\n",
        "plt.plot(results.history['loss'], label='train')\n",
        "plt.xlabel('epoch index')\n",
        "plt.ylabel('loss value ')\n",
        "plt.legend()\n",
        "plt.show()"
      ],
      "execution_count": null,
      "outputs": []
    },
    {
      "cell_type": "code",
      "metadata": {
        "execution": {
          "iopub.status.busy": "2021-09-22T12:58:37.245462Z",
          "iopub.execute_input": "2021-09-22T12:58:37.245794Z",
          "iopub.status.idle": "2021-09-22T12:58:37.557067Z",
          "shell.execute_reply.started": "2021-09-22T12:58:37.245766Z",
          "shell.execute_reply": "2021-09-22T12:58:37.556149Z"
        },
        "trusted": true,
        "id": "1GZLjaOS3JkW"
      },
      "source": [
        "# Trajectory Test \n",
        "encoded_test = encoder.predict([t_test,x_test,z_test,Y_test])\n",
        "vae_test = vae.predict([t_test,x_test,z_test,Y_test])\n",
        "\n",
        "mpl.rcParams['legend.fontsize'] = 10\n",
        "fig = plt.figure()\n",
        "ax = fig.gca(projection='3d')\n",
        "ax.plot(t_test[150],x_test[150],z_test[150],'o-', label='true signal')  \n",
        "ax.plot(vae_test[0][150],vae_test[1][150],vae_test[2][150],'o-', label='encoded-decoded signal')\n",
        "\n",
        "ax.view_init(elev=20., azim=120)\n",
        "\n",
        "ax.legend()\n",
        "\n",
        "print(vae_test[0][150][255])\n",
        "print(vae_test[1][150][255])\n",
        "print(vae_test[2][150][255])"
      ],
      "execution_count": null,
      "outputs": []
    },
    {
      "cell_type": "code",
      "metadata": {
        "execution": {
          "iopub.status.busy": "2021-09-22T11:26:06.83609Z",
          "iopub.execute_input": "2021-09-22T11:26:06.836579Z",
          "iopub.status.idle": "2021-09-22T11:26:06.844948Z",
          "shell.execute_reply.started": "2021-09-22T11:26:06.836538Z",
          "shell.execute_reply": "2021-09-22T11:26:06.844158Z"
        },
        "trusted": true,
        "id": "3coAM_qs3JkW"
      },
      "source": [
        "# Generate random latent space points for trajectory generation\n",
        "\n",
        "import random\n",
        "def construct(digit, z = None):\n",
        "  out = np.zeros((1,latent_dim+ny))\n",
        " \n",
        "  out[0,0]=random.uniform(-10,10)\n",
        "  out[0,1]=random.uniform(-10,10)\n",
        "  out[0,2]=random.uniform(-10,10)\n",
        "  out[0,3]=random.uniform(-10,10)\n",
        "  out[0,4]=random.uniform(-10,10)\n",
        "  out[0,5]=random.uniform(-10,10)\n",
        "  out[0,6]=random.uniform(-10,10)\n",
        "  out[0,7]=random.uniform(-10,10)\n",
        "\n",
        "  out[:,digit+latent_dim]=1.\n",
        "  if z is None:\n",
        "    return (out)\n",
        "  else:\n",
        "    for i in range (len(z)):\n",
        "      out[:,i]=z[i]\n",
        "    return out\n"
      ],
      "execution_count": null,
      "outputs": []
    },
    {
      "cell_type": "code",
      "metadata": {
        "execution": {
          "iopub.status.busy": "2021-09-22T11:26:06.846383Z",
          "iopub.execute_input": "2021-09-22T11:26:06.847128Z",
          "iopub.status.idle": "2021-09-22T11:36:47.477599Z",
          "shell.execute_reply.started": "2021-09-22T11:26:06.847089Z",
          "shell.execute_reply": "2021-09-22T11:36:47.476714Z"
        },
        "trusted": true,
        "id": "zoqi7ykQ3JkW"
      },
      "source": [
        "# Create datasets for the control VAE training \n",
        "\n",
        "import csv\n",
        "x = np.zeros((120000,256))\n",
        "y = np.zeros((120000,256))\n",
        "z = np.zeros((120000,256))\n",
        "\n",
        "xb = np.zeros((120000,256))\n",
        "yb = np.zeros((120000,256))\n",
        "zb = np.zeros((120000,256))\n",
        "\n",
        "lat = np.zeros((120000,10))\n",
        "latb = np.zeros((120000,10))\n",
        "for i in range (0,120000):\n",
        "    \n",
        "    sample = construct(0)\n",
        "    sampleb = construct(1)\n",
        "    #print(sample)\n",
        "    #print(sampleb)\n",
        "\n",
        "    s=decoder.predict(sample)\n",
        "    sb=decoder.predict(sampleb)\n",
        "    \"\"\"\n",
        "    mpl.rcParams['legend.fontsize'] = 10\n",
        "    fig = plt.figure()\n",
        "    ax = fig.gca(projection='3d')\n",
        "    ax.plot(s[0][0],s[1][0],s[2][0],'o-', label=' z=11.275')  \n",
        "    ax.view_init(elev=20., azim=120)\n",
        "    ax.legend()\n",
        "    \n",
        "    fig2 = plt.figure()\n",
        "    ax2 = fig2.gca(projection='3d')\n",
        "    ax2.plot(sb[0][0],sb[1][0],sb[2][0],'o-', label='z=-8.05')\n",
        "    ax2.view_init(elev=20., azim=120)\n",
        "\n",
        "    ax2.legend()\n",
        "    \"\"\"\n",
        "\n",
        "    \n",
        "\n",
        "    x[i,:]= s[0][0]\n",
        "    y[i,:]= s[1][0]\n",
        "    z[i,:]= s[2][0]\n",
        "    xb[i,:]= sb[0][0]\n",
        "    yb[i,:]= sb[1][0]\n",
        "    zb[i,:]= sb[2][0]\n",
        "    \n",
        "    lat[i,:]=sample\n",
        "    latb[i,:]=sampleb\n",
        "\n",
        "\n",
        "file = open ('data_traj_testleg1.csv','w+', newline='')\n",
        "with file:\n",
        "    write = csv.writer(file)\n",
        "    write.writerows(x)\n",
        "filey = open ('data_trajy_testleg1.csv','w+', newline='')\n",
        "with filey:\n",
        "    writey = csv.writer(filey)\n",
        "    writey.writerows(y)\n",
        "filez = open ('data_trajz_testleg1.csv','w+', newline='')\n",
        "with filez:\n",
        "    writez= csv.writer(filez)\n",
        "    writez.writerows(z)\n",
        "\n",
        "file = open ('data_traj_testleg2.csv','w+', newline='')\n",
        "with file:\n",
        "    write = csv.writer(file)\n",
        "    write.writerows(xb)\n",
        "filey = open ('data_trajy_testleg2.csv','w+', newline='')\n",
        "with filey:\n",
        "    writey = csv.writer(filey)\n",
        "    writey.writerows(yb)\n",
        "filez = open ('data_trajz_testleg2.csv','w+', newline='')\n",
        "with filez:\n",
        "    writez= csv.writer(filez)\n",
        "    writez.writerows(zb)\n",
        "    \n",
        "filelat = open ('latent.csv','w+', newline='')\n",
        "with filelat:\n",
        "    write = csv.writer(filelat)\n",
        "    write.writerows(lat)\n",
        "filelatb = open ('latentb.csv','w+', newline='')\n",
        "with filelatb:\n",
        "    write = csv.writer(filelatb)\n",
        "    write.writerows(latb)\n"
      ],
      "execution_count": null,
      "outputs": []
    },
    {
      "cell_type": "code",
      "metadata": {
        "execution": {
          "iopub.status.busy": "2021-09-22T12:59:16.250091Z",
          "iopub.execute_input": "2021-09-22T12:59:16.250423Z",
          "iopub.status.idle": "2021-09-22T12:59:18.353148Z",
          "shell.execute_reply.started": "2021-09-22T12:59:16.250389Z",
          "shell.execute_reply": "2021-09-22T12:59:18.352283Z"
        },
        "trusted": true,
        "id": "xLzKpOZW3JkX"
      },
      "source": [
        "#Evaluation of trajectories produce with the help of the control VAE\n",
        "\n",
        "evaluationx = np.zeros((300,256))\n",
        "evaluationy = np.zeros((300,256))\n",
        "evaluationz = np.zeros((300,256))\n",
        "evaluationxb = np.zeros((300,256))\n",
        "evaluationyb = np.zeros((300,256))\n",
        "evaluationzb = np.zeros((300,256))\n",
        "\n",
        "filename = '../input/dataset-final/control.csv'\n",
        "raw_data = open(filename, 'rt')\n",
        "reader = csv.reader(raw_data, delimiter=',')\n",
        "x = list(reader)\n",
        "ctrl = np.array(x).astype('float')\n",
        "\n",
        "\n",
        "filename = '../input/dataset-final/controlb.csv'\n",
        "raw_data = open(filename, 'rt')\n",
        "reader = csv.reader(raw_data, delimiter=',')\n",
        "x = list(reader)\n",
        "ctrlb = np.array(x).astype('float')\n",
        "s_c=np.zeros((1,10))\n",
        "s_cb=np.zeros((1,10))\n",
        "for i in range (0,300):\n",
        "    for y in range(0,10):\n",
        "        s_c[0][y]=ctrl[i][y]\n",
        "        s_cb[0][y]=ctrlb[i][y]\n",
        "    print(s_c)\n",
        "    print(s_cb)\n",
        "    \n",
        "    s=decoder.predict(s_c)\n",
        "    sb=decoder.predict(s_cb)\n",
        "    \n",
        "\n",
        "    evaluationx[i,:] = s[0][0]\n",
        "    evaluationy[i,:] = s[1][0]\n",
        "    evaluationz[i,:] = s[2][0]\n",
        "    \n",
        "    evaluationxb[i,:] = sb[0][0]\n",
        "    evaluationyb[i,:] = sb[1][0]\n",
        "    evaluationzb[i,:] = sb[2][0]\n",
        "\n",
        "file = open ('evaluationx.csv','w+', newline='')\n",
        "with file:\n",
        "    write= csv.writer(file)\n",
        "    write.writerows(evaluationx)\n",
        "    \n",
        "file = open ('evaluationy.csv','w+', newline='')\n",
        "with file:\n",
        "    write= csv.writer(file)\n",
        "    write.writerows(evaluationy)\n",
        "    \n",
        "file = open ('evaluationz.csv','w+', newline='')\n",
        "with file:\n",
        "    write= csv.writer(file)\n",
        "    write.writerows(evaluationz)\n",
        "    \n",
        "file = open ('evaluationxb.csv','w+', newline='')\n",
        "with file:\n",
        "    write= csv.writer(file)\n",
        "    write.writerows(evaluationxb)\n",
        "    \n",
        "file = open ('evaluationyb.csv','w+', newline='')\n",
        "with file:\n",
        "    write= csv.writer(file)\n",
        "    write.writerows(evaluationyb)\n",
        "    \n",
        "file = open ('evaluationzb.csv','w+', newline='')\n",
        "with file:\n",
        "    write= csv.writer(file)\n",
        "    write.writerows(evaluationzb)\n"
      ],
      "execution_count": null,
      "outputs": []
    }
  ]
}